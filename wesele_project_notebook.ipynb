{
 "cells": [
  {
   "cell_type": "markdown",
   "metadata": {},
   "source": [
    "# Pobranie tekstu oraz jego strukturyzacja do formatu JSON\n",
    "\n",
    "Poniższy notatnik prezentuje kod źródłowy skryptów napisanych w języku Python, które posłużyły do pobrania ze strony https://wolnelektury.pl tekstu dramatu autorstwa Stanisłwa Wyspiańskiego, pt.: _Wesele_. Tekst został następnie ustrukturyzowany w postaci słownika zawierającego dane dotyczące poszczególnych aktów i scen dramatu, wraz z podziałem dialogów na kwestie wypowiadane przez poszczególnych ich uczestników. Słownik został następnie przekonwertowany do formatu JSON oraz zapisany w postaci pliku `wesele-data.json`."
   ]
  },
  {
   "cell_type": "code",
   "execution_count": 1,
   "metadata": {},
   "outputs": [],
   "source": [
    "from bs4 import BeautifulSoup\n",
    "import re\n",
    "import requests\n",
    "import json"
   ]
  },
  {
   "cell_type": "code",
   "execution_count": 2,
   "metadata": {},
   "outputs": [],
   "source": [
    "def roman_to_int(s):\n",
    "    '''Function transforming Roman numerals into Arabic'''\n",
    "    rom_val = {'I': 1, 'V': 5, 'X': 10, 'L': 50, 'C': 100, 'D': 500, 'M': 1000}\n",
    "    int_val = 0\n",
    "    for i in range(len(s)):\n",
    "        if i > 0 and rom_val[s[i]] > rom_val[s[i - 1]]:\n",
    "            int_val += rom_val[s[i]] - 2 * rom_val[s[i - 1]]\n",
    "        else:\n",
    "            int_val += rom_val[s[i]]\n",
    "    return int_val"
   ]
  },
  {
   "cell_type": "code",
   "execution_count": 3,
   "metadata": {},
   "outputs": [],
   "source": [
    "def make_soup(url, headers):\n",
    "    '''Function that returns an object BeautifulSoup'''\n",
    "    req = requests.get(wesele_url, headers=headers)\n",
    "    return BeautifulSoup(req.content, \"html5lib\")"
   ]
  },
  {
   "cell_type": "code",
   "execution_count": 4,
   "metadata": {},
   "outputs": [],
   "source": [
    "wesele_url = 'https://wolnelektury.pl/katalog/lektura/wesele.html#anchor-idm140526473078944'\n",
    "headers = {\"User-Agent\" : \"Mozilla/5.0 (Linux; Android 6.0; Nexus 5 Build/MRA58N) AppleWebKit/537.36 (KHTML, like Gecko) Chrome/71.0.3578.98 Mobile Safari/537.36\"}\n",
    "soup = make_soup(wesele_url, headers)"
   ]
  },
  {
   "cell_type": "code",
   "execution_count": 5,
   "metadata": {},
   "outputs": [],
   "source": [
    "author = soup.find(\"span\", {\"class\" : \"author\"}).get_text(strip=True)\n",
    "title = soup.find(\"span\", {\"class\" : \"title\"}).get_text(strip=True)\n",
    "subtitle = soup.find(\"span\", {\"class\" : \"subtitle\"}).get_text(strip=True)\n",
    "persons_list = []\n",
    "for div in soup.find_all(\"div\", {\"class\" : \"person-list\"}):\n",
    "    persons = [person.get_text(strip=True) for person in div.find_all(\"li\")]\n",
    "    persons_list.extend(persons)"
   ]
  },
  {
   "cell_type": "code",
   "execution_count": 6,
   "metadata": {
    "slideshow": {
     "slide_type": "-"
    }
   },
   "outputs": [],
   "source": [
    "main_text = soup.find(\"h3\", text=re.compile(\"DEKORACJA\")).find_next_siblings()\n",
    "text = []\n",
    "# dodanie do listy text wszystkich tagów, które nie są linkami (przypisami, numerami stron, etc.)\n",
    "for tag in main_text:\n",
    "    if tag.name != \"a\":\n",
    "        [a.extract() for a in tag(\"a\")]\n",
    "        [span.extract() for span in tag(\"span\")]\n",
    "        text.append(tag)\n",
    "        continue"
   ]
  },
  {
   "cell_type": "code",
   "execution_count": 7,
   "metadata": {},
   "outputs": [],
   "source": [
    "decoration = \"\"\n",
    "for p in text:\n",
    "    p_text = p.get_text(strip=True)\n",
    "    if p_text.startswith(\"AKT I\"):\n",
    "        break\n",
    "    decoration += \"\\n\" + p_text"
   ]
  },
  {
   "cell_type": "code",
   "execution_count": 8,
   "metadata": {},
   "outputs": [],
   "source": [
    "persons_list = [] \n",
    "for div in soup.find_all(\"div\", {\"class\" : \"person-list\"}):\n",
    "    persons = [person.get_text(strip=True) for person in div.find_all(\"li\")]\n",
    "    persons_list.extend(persons)"
   ]
  },
  {
   "cell_type": "code",
   "execution_count": 9,
   "metadata": {},
   "outputs": [],
   "source": [
    "start_acts = []\n",
    "# pętla tworząca listę indeksów, od których rozpoczyna się każdy akt\n",
    "for index, tag in enumerate(text):\n",
    "    if tag.name == \"h2\":\n",
    "#         tag_text = tag.get_text(strip=True)\n",
    "#         act_number = roman_to_int(tag_text[4:])\n",
    "        start_acts.append(index)\n",
    "        continue\n",
    "    if tag.get(\"id\") == \"footnotes\":\n",
    "        last_index = index\n",
    "        continue"
   ]
  },
  {
   "cell_type": "code",
   "execution_count": 10,
   "metadata": {
    "scrolled": true
   },
   "outputs": [],
   "source": [
    "acts_indexes = []\n",
    "start_stop_tuple = ()\n",
    "# pętla tworząca listę krotek zawierających indeks początkowy i indeks końcowy aktów\n",
    "for i, start_index in enumerate(start_acts):\n",
    "    if i < len(start_acts) - 1:\n",
    "        start_stop_tuple += (start_index, start_acts[i + 1])\n",
    "        acts_indexes.append(start_stop_tuple)\n",
    "        start_stop_tuple = ()\n",
    "        continue\n",
    "    else:\n",
    "        start_stop_tuple += (start_index, last_index)\n",
    "        acts_indexes.append(start_stop_tuple)\n",
    "        del start_stop_tuple"
   ]
  },
  {
   "cell_type": "code",
   "execution_count": 11,
   "metadata": {},
   "outputs": [],
   "source": [
    "acts_list_of_dicts = []\n",
    "acts = [text[start:stop] for (start, stop) in acts_indexes]\n",
    "\n",
    "for act in acts:\n",
    "\n",
    "    act_dict = {\n",
    "        \"Akt\" : None,\n",
    "        \"Didaskalia\" : None,\n",
    "        \"Sceny\" : []\n",
    "    }\n",
    "\n",
    "    # Flaga sprawdzająca czy didaskalia przyporządkowane są do aktu czy do sceny\n",
    "    inside_scene = False\n",
    "    # lista indeksów początkowych scen\n",
    "    start_scenes = []\n",
    "\n",
    "    for i, element in enumerate(act):\n",
    "\n",
    "        if element.name == \"h2\":\n",
    "            act_number = roman_to_int(element.get_text(strip=True)[4:])\n",
    "            act_dict[\"Akt\"] = act_number\n",
    "            continue\n",
    "        elif inside_scene == False and element.name == \"div\" and element[\"class\"][0] == \"didaskalia\":\n",
    "            act_dict[\"Didaskalia\"] = re.sub(re.compile(r\"\\s,\\s\"), \", \", element.get_text(strip=True, separator=\" \"))\n",
    "            continue\n",
    "        elif element.name == \"h3\":\n",
    "            inside_scene = True\n",
    "            start_scenes.append(i)  \n",
    "            \n",
    "            \n",
    "    for i, start_index in enumerate(start_scenes):\n",
    "        if i < len(start_scenes) - 1:\n",
    "            act_dict[\"Sceny\"].append(act[start_index:start_scenes[i+1]])\n",
    "            continue\n",
    "        else:\n",
    "            act_dict[\"Sceny\"].append(act[start_index:])\n",
    "    \n",
    "    acts_list_of_dicts.append(act_dict)"
   ]
  },
  {
   "cell_type": "code",
   "execution_count": 12,
   "metadata": {},
   "outputs": [],
   "source": [
    "structured_text = []\n",
    "\n",
    "for act_element in range(len(acts_list_of_dicts)):\n",
    "    \n",
    "    # Skopiowanie struktury poprzedniej listy do nowej w celu nie ingerowania w iterowaną listę\n",
    "    act_dict = {\n",
    "        \"Akt\" : acts_list_of_dicts[act_element][\"Akt\"],\n",
    "        \"Didaskalia\" : acts_list_of_dicts[act_element][\"Didaskalia\"],\n",
    "        \"Sceny\" : []\n",
    "    }\n",
    "    structured_text.append(act_dict)\n",
    "    \n",
    "    for scene_element in range(len(acts_list_of_dicts[act_element])):\n",
    "        \n",
    "        for scene in acts_list_of_dicts[act_element][\"Sceny\"]:\n",
    "\n",
    "            scene_dict = {\n",
    "                \"Scena\" : None,\n",
    "                \"Didaskalia\" : [],\n",
    "                \"Dialog\" : []\n",
    "            }\n",
    "\n",
    "            for element in scene:\n",
    "            \n",
    "                if element.name == \"h3\":\n",
    "                    scene_number = roman_to_int(element.get_text(strip=True)[6:])\n",
    "                    scene_dict[\"Scena\"] = scene_number\n",
    "\n",
    "                elif element.name == \"div\" and element[\"class\"][0] == \"didaskalia\":\n",
    "                    scene_dict[\"Didaskalia\"].append(re.sub(re.compile(r\"\\s,\\s\"), \", \", element.get_text(strip=True, separator=\" \")))\n",
    "\n",
    "                elif element.name == \"h4\":\n",
    "                    person = element.get_text(strip=True)\n",
    "                    inside_dailog = True\n",
    "\n",
    "                elif element.name == \"div\" and element[\"class\"][0] == \"kwestia\":\n",
    "                    stanza = \"\\n\".join([p.get_text(strip=True, separator = \" \") for p in element.find(\"div\", {\"class\" : \"stanza\"}).find_all(\"p\", {\"class\" : \"verse\"})])\n",
    "\n",
    "                    dialog_dict = {\n",
    "                        \"Osoba\" : person,\n",
    "                        \"Zwrotka\" : stanza\n",
    "                    }\n",
    "\n",
    "                    scene_dict[\"Dialog\"].append(dialog_dict)\n",
    "            structured_text[act_element][\"Sceny\"].append(scene_dict)\n",
    "            "
   ]
  },
  {
   "cell_type": "code",
   "execution_count": 13,
   "metadata": {},
   "outputs": [],
   "source": [
    "full_text = {\n",
    "    \"Autor\" : author,\n",
    "    \"Tytuł\" : title,\n",
    "    \"Podtytuł\" : subtitle,\n",
    "    \"Dekoracja\" : decoration,\n",
    "    \"Akty\" : structured_text\n",
    "}"
   ]
  },
  {
   "cell_type": "code",
   "execution_count": 14,
   "metadata": {},
   "outputs": [],
   "source": [
    "with open(\"data/wesele-data.json\", \"w\") as json_data:\n",
    "    json.dump(full_text, json_data, ensure_ascii=False)"
   ]
  },
  {
   "cell_type": "markdown",
   "metadata": {},
   "source": [
    "# Utworzenie grafu\n",
    "Poniższy fragment tworzy strukturę grafu za pomocą biblioteki NetworkX, eksportuje go do pliku `wesele_network.gexf`, następnie oblicza miary centralności poszczególnych węzłów i eksportuje je do pliku `centrality-measures.json`"
   ]
  },
  {
   "cell_type": "code",
   "execution_count": 15,
   "metadata": {},
   "outputs": [],
   "source": [
    "import networkx as nx\n",
    "from itertools import combinations"
   ]
  },
  {
   "cell_type": "code",
   "execution_count": 16,
   "metadata": {},
   "outputs": [
    {
     "name": "stdout",
     "output_type": "stream",
     "text": [
      "[('CZEPIEC', 'DZIENNIKARZ', {'weight': 3}), ('CZEPIEC', 'GOSPODARZ', {'weight': 21}), ('CZEPIEC', 'OJCIEC', {'weight': 3}), ('CZEPIEC', 'POETA', {'weight': 18}), ('CZEPIEC', 'ŻYD', {'weight': 3}), ('CZEPIEC', 'KSIĄDZ', {'weight': 3}), ('CZEPIEC', 'MUZYKANT', {'weight': 3}), ('CZEPIEC', 'CZEPCOWA', {'weight': 3}), ('CZEPIEC', 'KUBA', {'weight': 6}), ('CZEPIEC', 'DZIAD', {'weight': 3}), ('CZEPIEC', 'GOSPODYNI', {'weight': 9}), ('CZEPIEC', 'PAN MŁODY', {'weight': 18}), ('CZEPIEC', 'KASPER', {'weight': 3}), ('CZEPIEC', 'STASZEK', {'weight': 3}), ('CZEPIEC', 'PANNA MŁODA', {'weight': 3}), ('CZEPIEC', 'HANECZKA', {'weight': 3}), ('CZEPIEC', 'ZOSIA', {'weight': 3}), ('DZIENNIKARZ', 'ZOSIA', {'weight': 6}), ('DZIENNIKARZ', 'STAŃCZYK', {'weight': 3}), ('DZIENNIKARZ', 'POETA', {'weight': 3}), ('DZIENNIKARZ', 'RADCZYNI', {'weight': 3}), ('ZOSIA', 'HANECZKA', {'weight': 9}), ('ZOSIA', 'RADCZYNI', {'weight': 3}), ('ZOSIA', 'KASPER', {'weight': 6}), ('ZOSIA', 'GOSPODARZ', {'weight': 3}), ('ZOSIA', 'STASZEK', {'weight': 3}), ('ZOSIA', 'PANNA MŁODA', {'weight': 3}), ('ZOSIA', 'GOSPODYNI', {'weight': 3}), ('ZOSIA', 'PAN MŁODY', {'weight': 3}), ('ZOSIA', 'KUBA', {'weight': 3}), ('ZOSIA', 'POETA', {'weight': 3}), ('HANECZKA', 'RADCZYNI', {'weight': 3}), ('HANECZKA', 'JASIEK', {'weight': 6}), ('HANECZKA', 'PAN MŁODY', {'weight': 6}), ('HANECZKA', 'GOSPODARZ', {'weight': 3}), ('HANECZKA', 'KASPER', {'weight': 3}), ('HANECZKA', 'STASZEK', {'weight': 3}), ('HANECZKA', 'PANNA MŁODA', {'weight': 3}), ('HANECZKA', 'GOSPODYNI', {'weight': 3}), ('HANECZKA', 'KUBA', {'weight': 3}), ('HANECZKA', 'POETA', {'weight': 3}), ('RADCZYNI', 'KLIMINA', {'weight': 6}), ('RADCZYNI', 'MARYNA', {'weight': 3}), ('RADCZYNI', 'PAN MŁODY', {'weight': 6}), ('RADCZYNI', 'PANNA MŁODA', {'weight': 3}), ('KASPER', 'JASIEK', {'weight': 6}), ('KASPER', 'KASIA', {'weight': 9}), ('KASPER', 'NOS', {'weight': 3}), ('KASPER', 'PAN MŁODY', {'weight': 9}), ('KASPER', 'PANNA MŁODA', {'weight': 6}), ('KASPER', 'GOSPODYNI', {'weight': 6}), ('KASPER', 'GOSPODARZ', {'weight': 3}), ('KASPER', 'STASZEK', {'weight': 3}), ('KASPER', 'KUBA', {'weight': 3}), ('KASPER', 'POETA', {'weight': 3}), ('JASIEK', 'KASIA', {'weight': 3}), ('JASIEK', 'GOSPODARZ', {'weight': 3}), ('JASIEK', 'CHOCHOŁ', {'weight': 6}), ('PANNA MŁODA', 'PAN MŁODY', {'weight': 30}), ('PANNA MŁODA', 'KSIĄDZ', {'weight': 6}), ('PANNA MŁODA', 'POETA', {'weight': 15}), ('PANNA MŁODA', 'GOSPODARZ', {'weight': 6}), ('PANNA MŁODA', 'NOS', {'weight': 3}), ('PANNA MŁODA', 'GOSPODYNI', {'weight': 6}), ('PANNA MŁODA', 'MARYSIA', {'weight': 3}), ('PANNA MŁODA', 'STASZEK', {'weight': 3}), ('PANNA MŁODA', 'KUBA', {'weight': 3}), ('PAN MŁODY', 'KSIĄDZ', {'weight': 9}), ('PAN MŁODY', 'ŻYD', {'weight': 6}), ('PAN MŁODY', 'RACHEL', {'weight': 9}), ('PAN MŁODY', 'POETA', {'weight': 33}), ('PAN MŁODY', 'GOSPODARZ', {'weight': 18}), ('PAN MŁODY', 'CHÓR', {'weight': 3}), ('PAN MŁODY', 'HETMAN', {'weight': 6}), ('PAN MŁODY', 'DZIAD', {'weight': 3}), ('PAN MŁODY', 'NOS', {'weight': 3}), ('PAN MŁODY', 'GOSPODYNI', {'weight': 9}), ('PAN MŁODY', 'STASZEK', {'weight': 3}), ('PAN MŁODY', 'KUBA', {'weight': 3}), ('KSIĄDZ', 'ŻYD', {'weight': 6}), ('KSIĄDZ', 'GOSPODARZ', {'weight': 3}), ('MARYNA', 'POETA', {'weight': 9}), ('POETA', 'RACHEL', {'weight': 15}), ('POETA', 'GOSPODARZ', {'weight': 24}), ('POETA', 'OJCIEC', {'weight': 3}), ('POETA', 'RYCERZ', {'weight': 3}), ('POETA', 'NOS', {'weight': 3}), ('POETA', 'GOSPODYNI', {'weight': 12}), ('POETA', 'STASZEK', {'weight': 3}), ('POETA', 'KUBA', {'weight': 3}), ('ŻYD', 'RACHEL', {'weight': 3}), ('ŻYD', 'DZIAD', {'weight': 3}), ('GOSPODARZ', 'OJCIEC', {'weight': 3}), ('GOSPODARZ', 'KUBA', {'weight': 6}), ('GOSPODARZ', 'GOSPODYNI', {'weight': 27}), ('GOSPODARZ', 'WERNYHORA', {'weight': 3}), ('GOSPODARZ', 'STASZEK', {'weight': 6}), ('GOSPODARZ', 'NOS', {'weight': 3}), ('OJCIEC', 'DZIAD', {'weight': 3}), ('OJCIEC', 'MARYSIA', {'weight': 3}), ('DZIAD', 'UPIÓR', {'weight': 3}), ('GOSPODYNI', 'ISIA', {'weight': 3}), ('GOSPODYNI', 'NOS', {'weight': 3}), ('GOSPODYNI', 'CZEPCOWA', {'weight': 3}), ('GOSPODYNI', 'STASZEK', {'weight': 3}), ('GOSPODYNI', 'KUBA', {'weight': 3}), ('ISIA', 'CHOCHOŁ', {'weight': 3}), ('MARYSIA', 'WOJTEK', {'weight': 6}), ('MARYSIA', 'WIDMO', {'weight': 3}), ('CHÓR', 'HETMAN', {'weight': 6}), ('KASIA', 'NOS', {'weight': 3}), ('KUBA', 'STASZEK', {'weight': 3})]\n"
     ]
    }
   ],
   "source": [
    "G = nx.Graph()\n",
    "\n",
    "for index, act in enumerate(full_text['Akty']):\n",
    "    for scene in act['Sceny']:\n",
    "        nodes = set()\n",
    "        for dialog in scene['Dialog']:\n",
    "            if  \",\" in dialog[\"Osoba\"] or \"WSZYSCY\" in dialog[\"Osoba\"]:\n",
    "                continue\n",
    "            nodes.add(dialog[\"Osoba\"])\n",
    "        edges = list(combinations(nodes, 2))\n",
    "        \n",
    "        for edge in edges:\n",
    "            if G.has_edge(edge[0], edge[1]):\n",
    "                G[edge[0]][edge[1]][\"weight\"] += 1\n",
    "            else:\n",
    "                G.add_edge(edge[0], edge[1], weight=1)\n",
    "# Show all edges\n",
    "print(G.edges(data=True))"
   ]
  },
  {
   "cell_type": "code",
   "execution_count": 17,
   "metadata": {},
   "outputs": [
    {
     "name": "stdout",
     "output_type": "stream",
     "text": [
      "['CZEPIEC', 'DZIENNIKARZ', 'ZOSIA', 'HANECZKA', 'RADCZYNI', 'KLIMINA', 'KASPER', 'JASIEK', 'PANNA MŁODA', 'PAN MŁODY', 'KSIĄDZ', 'MARYNA', 'POETA', 'ŻYD', 'RACHEL', 'GOSPODARZ', 'OJCIEC', 'DZIAD', 'GOSPODYNI', 'ISIA', 'CHOCHOŁ', 'MARYSIA', 'WOJTEK', 'WIDMO', 'STAŃCZYK', 'RYCERZ', 'CHÓR', 'HETMAN', 'UPIÓR', 'KASIA', 'NOS', 'KUBA', 'WERNYHORA', 'STASZEK', 'MUZYKANT', 'CZEPCOWA']\n"
     ]
    }
   ],
   "source": [
    "# Show all nodes\n",
    "print(G.nodes())"
   ]
  },
  {
   "cell_type": "code",
   "execution_count": 18,
   "metadata": {},
   "outputs": [],
   "source": [
    "import matplotlib.pyplot as plt\n",
    "%matplotlib inline"
   ]
  },
  {
   "cell_type": "code",
   "execution_count": 19,
   "metadata": {},
   "outputs": [
    {
     "name": "stderr",
     "output_type": "stream",
     "text": [
      "/Users/alb/Dev/alb/lib/python3.7/site-packages/networkx/drawing/nx_pylab.py:579: MatplotlibDeprecationWarning: \n",
      "The iterable function was deprecated in Matplotlib 3.1 and will be removed in 3.3. Use np.iterable instead.\n",
      "  if not cb.iterable(width):\n"
     ]
    },
    {
     "data": {
      "image/png": "[encoded data removed]",
      "text/plain": [
       "<Figure size 432x288 with 1 Axes>"
      ]
     },
     "metadata": {},
     "output_type": "display_data"
    }
   ],
   "source": [
    "nx.draw_networkx(G, with_labels=True)\n",
    "plt.show()"
   ]
  },
  {
   "cell_type": "code",
   "execution_count": 20,
   "metadata": {},
   "outputs": [],
   "source": [
    "nx.write_gexf(G, 'data/wesele_network.gexf')"
   ]
  },
  {
   "cell_type": "code",
   "execution_count": 21,
   "metadata": {},
   "outputs": [],
   "source": [
    "# Calculate centrality measures for the Graph network with NetworkX\n",
    "centrality_measures = {\n",
    "    'degree': nx.degree_centrality(G),\n",
    "    'betweenness': nx.betweenness_centrality(G),\n",
    "    'closeness': nx.closeness_centrality(G),\n",
    "    'eigenvector': nx.eigenvector_centrality(G),\n",
    "}\n",
    "\n",
    "# Output the array of centrality measure names in JSON format\n",
    "with open('data/centrality-measures.json', 'w') as f:\n",
    "    json.dump(list(centrality_measures.keys()), f, indent=2)\n",
    "\n",
    "# Create the basic structure of a force-directed D3 network\n",
    "d3_graph = {\n",
    "    'nodes': [],\n",
    "    'links': [],\n",
    "}\n",
    "\n",
    "# Add each node in the network to the D3 network\n",
    "for node in G.nodes():\n",
    "    d3_graph_node = {\n",
    "        'id': str(node),\n",
    "        'centrality': {},\n",
    "    }\n",
    "    for centrality_measure in centrality_measures:\n",
    "        d3_graph_node['centrality'][centrality_measure] = centrality_measures[centrality_measure][node]\n",
    "    d3_graph['nodes'].append(d3_graph_node)\n",
    "\n",
    "# Add each edge in the kkg network to the D3 network\n",
    "for (source, target) in G.edges():\n",
    "    d3_graph_edge = {\n",
    "        'source': str(source),\n",
    "        'target': str(target)\n",
    "    }\n",
    "    d3_graph['links'].append(d3_graph_edge)\n",
    "\n",
    "# Output the kkg network graph in JSON format\n",
    "with open('data/network_graph.json', 'w') as f:\n",
    "    json.dump(d3_graph, f, indent=2)"
   ]
  },
  {
   "cell_type": "code",
   "execution_count": null,
   "metadata": {},
   "outputs": [],
   "source": []
  }
 ],
 "metadata": {
  "kernelspec": {
   "display_name": "Python 3",
   "language": "python",
   "name": "python3"
  },
  "language_info": {
   "codemirror_mode": {
    "name": "ipython",
    "version": 3
   },
   "file_extension": ".py",
   "mimetype": "text/x-python",
   "name": "python",
   "nbconvert_exporter": "python",
   "pygments_lexer": "ipython3",
   "version": "3.7.2"
  }
 },
 "nbformat": 4,
 "nbformat_minor": 2
}
